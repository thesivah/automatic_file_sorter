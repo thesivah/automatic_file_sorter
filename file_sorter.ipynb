{
 "cells": [
  {
   "cell_type": "code",
   "execution_count": 1,
   "metadata": {},
   "outputs": [],
   "source": [
    "import os,shutil"
   ]
  },
  {
   "cell_type": "code",
   "execution_count": 2,
   "metadata": {},
   "outputs": [],
   "source": [
    "path = r\"D:/Coding/Practice/\"\n",
    "\n",
    "file_name = os.listdir(path)\n",
    "\n",
    "for file in file_name:\n",
    "    name,ext = os.path.splitext(file)\n",
    "\n",
    "    ext = ext[1:]\n",
    "\n",
    "    if ext == \"\" :\n",
    "        continue\n",
    "\n",
    "    if os.path.exists(path + ext):\n",
    "        shutil.move(path + file, path + ext +\"/\"+ file)\n",
    "\n",
    "    else :\n",
    "        os.makedirs(path + ext)\n",
    "        shutil.move(path + file, path + ext +\"/\"+ file)"
   ]
  },
  {
   "cell_type": "code",
   "execution_count": null,
   "metadata": {},
   "outputs": [],
   "source": []
  }
 ],
 "metadata": {
  "kernelspec": {
   "display_name": "Python 3",
   "language": "python",
   "name": "python3"
  },
  "language_info": {
   "codemirror_mode": {
    "name": "ipython",
    "version": 3
   },
   "file_extension": ".py",
   "mimetype": "text/x-python",
   "name": "python",
   "nbconvert_exporter": "python",
   "pygments_lexer": "ipython3",
   "version": "3.12.0"
  }
 },
 "nbformat": 4,
 "nbformat_minor": 2
}
