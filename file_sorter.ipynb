{
 "cells": [
  {
   "cell_type": "code",
   "execution_count": 1,
   "metadata": {},
   "outputs": [],
   "source": [
    "import os,shutil"
   ]
  },
  {
   "cell_type": "code",
   "execution_count": 2,
   "metadata": {},
   "outputs": [],
   "source": [
    "path = r\"D:/New folder\" # You can enter the location/path of the folder here\n",
    "\n",
    "# Add many other extension also to the ;ist according to the need \n",
    "valid_ext = [\"pdf\", \"docx\", \"txt\", \"jpg\", \"png\", \"jpeg\", \"mp4\", \"mkv\", \"mp3\", \"docs\", \"xlsx\", \"pptx\", \"rtf\", \"bmp\"]\n",
    "\n",
    "# This will create a list of files or folder in the particular path(folder)\n",
    "file_name = os.listdir(path)\n",
    "\n",
    "\n",
    "for file in file_name:\n",
    "    # This will split the file name into name and extension(ext)\n",
    "    name, ext = os.path.splitext(file)\n",
    "\n",
    "    # This will remove the dot from the start of the extension(ext)\n",
    "    ext = ext[1:]\n",
    "\n",
    "    # This will check if the file name has extension(ext) or not or if the extension name is valid or not\n",
    "    if ext == \"\" or ext not in valid_ext:\n",
    "        continue\n",
    "\n",
    "    # If there is already a folder with the extension(ext) name then the file will move into that folder\n",
    "    if os.path.exists(os.path.join(path,ext)):\n",
    "        shutil.move(os.path.join(path,file), os.path.join(path,ext,file))\n",
    "\n",
    "    # If not then it will create a new folder of extension(ext) name and then move the file into that folder\n",
    "    else:\n",
    "        os.makedirs(os.path.join(path,ext))\n",
    "        shutil.move(os.path.join(path,file), os.path.join(path,ext,file))"
   ]
  },
  {
   "cell_type": "code",
   "execution_count": null,
   "metadata": {},
   "outputs": [],
   "source": []
  }
 ],
 "metadata": {
  "kernelspec": {
   "display_name": "Python 3",
   "language": "python",
   "name": "python3"
  },
  "language_info": {
   "codemirror_mode": {
    "name": "ipython",
    "version": 3
   },
   "file_extension": ".py",
   "mimetype": "text/x-python",
   "name": "python",
   "nbconvert_exporter": "python",
   "pygments_lexer": "ipython3",
   "version": "3.12.0"
  }
 },
 "nbformat": 4,
 "nbformat_minor": 2
}
